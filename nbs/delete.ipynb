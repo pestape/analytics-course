{
 "cells": [
  {
   "cell_type": "code",
   "execution_count": 4,
   "id": "9bed295e",
   "metadata": {},
   "outputs": [],
   "source": [
    "import requests"
   ]
  },
  {
   "cell_type": "code",
   "execution_count": 6,
   "id": "019ce986",
   "metadata": {},
   "outputs": [
    {
     "name": "stdout",
     "output_type": "stream",
     "text": [
      "Response ok: True\n",
      "{'description': '', 'id': 11, 'page': '/test'} <class 'dict'> None\n"
     ]
    }
   ],
   "source": [
    "path = \"/api/events/11\"\n",
    "base_url = \"http://localhost:8002\"\n",
    "delete_endpoint = f\"{base_url}{path}\"\n",
    "\n",
    "response = requests.delete(delete_endpoint)\n",
    "print('Response ok:', response.ok)\n",
    "\n",
    "if response.ok :\n",
    "    data = response.json()\n",
    "    print(data, type(data), data.get('items'))\n",
    "else:\n",
    "    print(response.text)\n",
    "    "
   ]
  }
 ],
 "metadata": {
  "kernelspec": {
   "display_name": "venv",
   "language": "python",
   "name": "python3"
  },
  "language_info": {
   "codemirror_mode": {
    "name": "ipython",
    "version": 3
   },
   "file_extension": ".py",
   "mimetype": "text/x-python",
   "name": "python",
   "nbconvert_exporter": "python",
   "pygments_lexer": "ipython3",
   "version": "3.13.3"
  }
 },
 "nbformat": 4,
 "nbformat_minor": 5
}
